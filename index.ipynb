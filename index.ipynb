{
 "cells": [
  {
   "cell_type": "markdown",
   "id": "b0b9182c",
   "metadata": {},
   "source": [
    "# trove-government\n",
    "\n",
    "Resources generated or collected by the Australian Commonwealth Government are available in a number of different locations and formats across Trove. This repository contains tools and examples to work with digitised government publications available through Trove.\n",
    "\n",
    "For more information and documentation see the [Trove government](https://glam-workbench.net/trove-government) section of the [GLAM Workbench](https://glam-workbench.net).\n",
    "\n",
    "## Notebooks\n",
    "- [Harvest parliament press releases from Trove](https://github.com/GLAM-Workbench/trove-government/blob/master/harvest-parliament-press-releases.ipynb)\n",
    "- [Harvest details of Commonwealth Parliamentary Papers digitised in Trove](https://github.com/GLAM-Workbench/trove-government/blob/master/harvest-parliamentary-papers.ipynb)"
   ]
  },
  {
   "cell_type": "markdown",
   "id": "8be666a8",
   "metadata": {},
   "source": [
    "## Associated datasets\n",
    "- [trove-parliament-press-releases-refugees](https://github.com/GLAM-Workbench/trove-parliament-press-releases-refugees/)\n",
    "- [trove-parliament-press-releases-covid](https://github.com/GLAM-Workbench/trove-parliament-press-releases-covid/)\n",
    "- [trove-parliamentary-papers-data](https://github.com/GLAM-Workbench/trove-parliamentary-papers-data/)\n"
   ]
  },
  {
   "cell_type": "markdown",
   "id": "970dff5f",
   "metadata": {},
   "source": [
    "----\n",
    "Created by [Tim Sherratt](https://timsherratt.au) for the [GLAM Workbench](https://glam-workbench.net)"
   ]
  }
 ],
 "metadata": {
  "jupytext": {
   "cell_metadata_filter": "-all"
  },
  "kernelspec": {
   "display_name": "Python 3 (ipykernel)",
   "language": "python",
   "name": "python3"
  }
 },
 "nbformat": 4,
 "nbformat_minor": 5
}
