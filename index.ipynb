{
 "cells": [
  {
   "cell_type": "markdown",
   "id": "c54c3ba8",
   "metadata": {},
   "source": [
    "# Trove Government Publications\n",
    "\n",
    "Current version: [v0.0.0](https://github.com/GLAM-Workbench/trove-government/releases/tag/v0.0.0)\n",
    "\n",
    "Tools and examples to work with digitised government publications available through Trove. For more information see the [Trove Government Publications](https://glam-workbench.net/trove-government-publications/) section of the GLAM Workbench.\n",
    "\n",
    "## Notebook topics\n",
    "\n",
    "* [Notebook title](sample_notebook.ipynb) – this notebook does things\n",
    "\n",
    "See the [GLAM Workbench for more details](https://glam-workbench.net/trove-government-publications/).\n"
   ]
  },
  {
   "cell_type": "markdown",
   "id": "cec7a2cf",
   "metadata": {},
   "source": [
    "## Cite as\n",
    "\n",
    "See the GLAM Workbench or [Zenodo](https://doi.org/10.5281/zenodo.3521724) for up-to-date citation details.\n",
    "\n",
    "----\n",
    "\n",
    "This repository is part of the [GLAM Workbench](https://glam-workbench.net/).  \n"
   ]
  }
 ],
 "metadata": {
  "jupytext": {
   "cell_metadata_filter": "-all"
  },
  "kernelspec": {
   "display_name": "Python 3 (ipykernel)",
   "language": "python",
   "name": "python3"
  }
 },
 "nbformat": 4,
 "nbformat_minor": 5
}
